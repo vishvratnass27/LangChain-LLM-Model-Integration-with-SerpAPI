{
 "cells": [
  {
   "cell_type": "code",
   "execution_count": 1,
   "id": "c5de6abc",
   "metadata": {},
   "outputs": [],
   "source": [
    "# pip  install langchain"
   ]
  },
  {
   "cell_type": "code",
   "execution_count": 6,
   "id": "6286196b",
   "metadata": {},
   "outputs": [],
   "source": [
    "# pip install openai"
   ]
  },
  {
   "cell_type": "code",
   "execution_count": 11,
   "id": "baae26a3",
   "metadata": {},
   "outputs": [],
   "source": [
    "my_openapi_key = \"Enter your key here \""
   ]
  },
  {
   "cell_type": "code",
   "execution_count": null,
   "id": "16517a57",
   "metadata": {},
   "outputs": [],
   "source": []
  },
  {
   "cell_type": "code",
   "execution_count": null,
   "id": "5e65bb1c",
   "metadata": {},
   "outputs": [],
   "source": []
  },
  {
   "cell_type": "code",
   "execution_count": 99,
   "id": "5768497b",
   "metadata": {},
   "outputs": [],
   "source": [
    "import os"
   ]
  },
  {
   "cell_type": "code",
   "execution_count": 103,
   "id": "16866da4",
   "metadata": {},
   "outputs": [],
   "source": [
    "os.environ['SERPAPI_API_KEY'] = \"Enter your key here \""
   ]
  },
  {
   "cell_type": "code",
   "execution_count": null,
   "id": "c68fda21",
   "metadata": {},
   "outputs": [],
   "source": []
  },
  {
   "cell_type": "code",
   "execution_count": null,
   "id": "adb04af1",
   "metadata": {},
   "outputs": [],
   "source": []
  },
  {
   "cell_type": "code",
   "execution_count": null,
   "id": "e98f6fc3",
   "metadata": {},
   "outputs": [],
   "source": []
  },
  {
   "cell_type": "code",
   "execution_count": null,
   "id": "64476f4a",
   "metadata": {},
   "outputs": [],
   "source": []
  },
  {
   "cell_type": "code",
   "execution_count": 3,
   "id": "e6c4d1c8",
   "metadata": {},
   "outputs": [],
   "source": [
    "from langchain.llms import OpenAI"
   ]
  },
  {
   "cell_type": "code",
   "execution_count": 13,
   "id": "b271068a",
   "metadata": {},
   "outputs": [],
   "source": [
    "myllm = OpenAI(temperature=0, openai_api_key=my_openapi_key)"
   ]
  },
  {
   "cell_type": "code",
   "execution_count": 29,
   "id": "e1997bb7",
   "metadata": {},
   "outputs": [],
   "source": [
    "output = myllm(prompt=\"tell me top 2 {x} of india, which me only name of it. x = food\")"
   ]
  },
  {
   "cell_type": "code",
   "execution_count": 30,
   "id": "18df3b28",
   "metadata": {},
   "outputs": [
    {
     "name": "stdout",
     "output_type": "stream",
     "text": [
      "\n",
      "\n",
      "1. Biryani\n",
      "2. Samosa\n"
     ]
    }
   ],
   "source": [
    "print(output)"
   ]
  },
  {
   "cell_type": "code",
   "execution_count": 113,
   "id": "04c948cc",
   "metadata": {},
   "outputs": [],
   "source": [
    "output = myllm(prompt=\"what is lang chain\")"
   ]
  },
  {
   "cell_type": "code",
   "execution_count": 114,
   "id": "91b350cc",
   "metadata": {},
   "outputs": [
    {
     "name": "stdout",
     "output_type": "stream",
     "text": [
      "\n",
      "\n",
      "Lang chain is a type of language learning technique that involves learning one language in order to learn another. It involves learning a language that is closely related to the target language, such as Spanish and Portuguese, or French and Italian. This technique is often used by language learners who are looking to quickly learn a new language.\n"
     ]
    }
   ],
   "source": [
    "print(output)"
   ]
  },
  {
   "cell_type": "code",
   "execution_count": null,
   "id": "5c6e8831",
   "metadata": {},
   "outputs": [],
   "source": []
  },
  {
   "cell_type": "code",
   "execution_count": 31,
   "id": "891561bf",
   "metadata": {},
   "outputs": [],
   "source": [
    "from langchain.prompts import PromptTemplate"
   ]
  },
  {
   "cell_type": "code",
   "execution_count": 34,
   "id": "e3d5c768",
   "metadata": {},
   "outputs": [],
   "source": [
    "myprompt = PromptTemplate(\n",
    "    template=\"tell me top 2 {things} of india, which me only name of it.\",\n",
    "    input_variables= [ \"things\" ]\n",
    ")"
   ]
  },
  {
   "cell_type": "code",
   "execution_count": 35,
   "id": "42fc1bdb",
   "metadata": {},
   "outputs": [
    {
     "data": {
      "text/plain": [
       "'tell me top 2 animals of india, which me only name of it.'"
      ]
     },
     "execution_count": 35,
     "metadata": {},
     "output_type": "execute_result"
    }
   ],
   "source": [
    "myprompt.format(things=\"animals\")"
   ]
  },
  {
   "cell_type": "code",
   "execution_count": 36,
   "id": "48a4f359",
   "metadata": {},
   "outputs": [
    {
     "data": {
      "text/plain": [
       "'tell me top 2 food of india, which me only name of it.'"
      ]
     },
     "execution_count": 36,
     "metadata": {},
     "output_type": "execute_result"
    }
   ],
   "source": [
    "myprompt.format(things=\"food\")"
   ]
  },
  {
   "cell_type": "code",
   "execution_count": 43,
   "id": "e6babc41",
   "metadata": {},
   "outputs": [],
   "source": [
    "output = myllm(  prompt=myprompt.format(things=\"food\")  )"
   ]
  },
  {
   "cell_type": "code",
   "execution_count": 44,
   "id": "55b3c7c2",
   "metadata": {},
   "outputs": [
    {
     "name": "stdout",
     "output_type": "stream",
     "text": [
      "\n",
      "\n",
      "1. Biryani\n",
      "2. Samosa\n"
     ]
    }
   ],
   "source": [
    "print(output)"
   ]
  },
  {
   "cell_type": "code",
   "execution_count": 45,
   "id": "c5b18e53",
   "metadata": {},
   "outputs": [],
   "source": [
    "output = myllm(  prompt=myprompt.format(things=\"animals\")  )"
   ]
  },
  {
   "cell_type": "code",
   "execution_count": 46,
   "id": "63ecfa51",
   "metadata": {},
   "outputs": [
    {
     "name": "stdout",
     "output_type": "stream",
     "text": [
      "\n",
      "\n",
      "1. Elephant\n",
      "2. Tiger\n"
     ]
    }
   ],
   "source": [
    "print(output)"
   ]
  },
  {
   "cell_type": "code",
   "execution_count": 49,
   "id": "b08f2a13",
   "metadata": {},
   "outputs": [],
   "source": [
    "from langchain.chains import LLMChain"
   ]
  },
  {
   "cell_type": "code",
   "execution_count": 52,
   "id": "cfc04fc8",
   "metadata": {},
   "outputs": [],
   "source": [
    "# my_things_prompt = myprompt.format(things=\"animals\")"
   ]
  },
  {
   "cell_type": "code",
   "execution_count": 67,
   "id": "db11c5d4",
   "metadata": {},
   "outputs": [],
   "source": [
    "# my_things_prompt"
   ]
  },
  {
   "cell_type": "code",
   "execution_count": null,
   "id": "8a1ee9ae",
   "metadata": {},
   "outputs": [],
   "source": []
  },
  {
   "cell_type": "code",
   "execution_count": 68,
   "id": "23088837",
   "metadata": {},
   "outputs": [],
   "source": [
    "mychain = LLMChain(\n",
    "        prompt=myprompt, \n",
    "        llm=myllm\n",
    ")"
   ]
  },
  {
   "cell_type": "code",
   "execution_count": 71,
   "id": "444baa0e",
   "metadata": {},
   "outputs": [
    {
     "name": "stdout",
     "output_type": "stream",
     "text": [
      "\n",
      "\n",
      "1. Bengal Tiger\n",
      "2. Indian Elephant\n"
     ]
    }
   ],
   "source": [
    "print ( mychain.run(things=\"animal\") )"
   ]
  },
  {
   "cell_type": "code",
   "execution_count": 108,
   "id": "0ba37b07",
   "metadata": {},
   "outputs": [],
   "source": [
    "# pip install google-search-results"
   ]
  },
  {
   "cell_type": "code",
   "execution_count": 109,
   "id": "1d640eae",
   "metadata": {},
   "outputs": [],
   "source": [
    "from langchain.agents import AgentType"
   ]
  },
  {
   "cell_type": "code",
   "execution_count": 96,
   "id": "000064ce",
   "metadata": {},
   "outputs": [],
   "source": [
    "from langchain.agents import load_tools"
   ]
  },
  {
   "cell_type": "code",
   "execution_count": 106,
   "id": "7b69b294",
   "metadata": {},
   "outputs": [],
   "source": [
    "mytools = load_tools(tool_names=[\"serpapi\"] )"
   ]
  },
  {
   "cell_type": "code",
   "execution_count": 107,
   "id": "79ae5231",
   "metadata": {},
   "outputs": [],
   "source": [
    "from langchain.agents import initialize_agent"
   ]
  },
  {
   "cell_type": "code",
   "execution_count": 110,
   "id": "debf3252",
   "metadata": {},
   "outputs": [],
   "source": [
    "my_google_chain = initialize_agent(\n",
    "                        tools=mytools, \n",
    "                        llm=myllm,\n",
    "                        agent=AgentType.ZERO_SHOT_REACT_DESCRIPTION,\n",
    "                        verbose=True\n",
    "                )"
   ]
  },
  {
   "cell_type": "code",
   "execution_count": 115,
   "id": "b0507173",
   "metadata": {},
   "outputs": [
    {
     "name": "stdout",
     "output_type": "stream",
     "text": [
      "\n",
      "\n",
      "\u001b[1m> Entering new AgentExecutor chain...\u001b[0m\n",
      "\u001b[32;1m\u001b[1;3m I need to find out who the current president of the US is\n",
      "Action: Search\n",
      "Action Input: \"current president of US\"\u001b[0m\n",
      "Observation: \u001b[36;1m\u001b[1;3mJoe Biden\u001b[0m\n",
      "Thought:\u001b[32;1m\u001b[1;3m I now know the final answer\n",
      "Final Answer: Joe Biden is the current president of the US.\u001b[0m\n",
      "\n",
      "\u001b[1m> Finished chain.\u001b[0m\n"
     ]
    },
    {
     "data": {
      "text/plain": [
       "'Joe Biden is the current president of the US.'"
      ]
     },
     "execution_count": 115,
     "metadata": {},
     "output_type": "execute_result"
    }
   ],
   "source": [
    "my_google_chain.run(\"tell me current president of US in one lines\")"
   ]
  },
  {
   "cell_type": "code",
   "execution_count": 117,
   "id": "c07244da",
   "metadata": {},
   "outputs": [
    {
     "name": "stdout",
     "output_type": "stream",
     "text": [
      "\n",
      "\n",
      "\u001b[1m> Entering new AgentExecutor chain...\u001b[0m\n",
      "\u001b[32;1m\u001b[1;3m I need to find out when Chandrayaan 3 was launched in India\n",
      "Action: Search\n",
      "Action Input: \"Chandrayaan 3 launch date India\"\u001b[0m\n",
      "Observation: \u001b[36;1m\u001b[1;3m14 July 2023\u001b[0m\n",
      "Thought:\u001b[32;1m\u001b[1;3m I now know the final answer\n",
      "Final Answer: Chandrayaan 3 will be launched in India on 14 July 2023.\u001b[0m\n",
      "\n",
      "\u001b[1m> Finished chain.\u001b[0m\n"
     ]
    },
    {
     "data": {
      "text/plain": [
       "'Chandrayaan 3 will be launched in India on 14 July 2023.'"
      ]
     },
     "execution_count": 117,
     "metadata": {},
     "output_type": "execute_result"
    }
   ],
   "source": [
    "my_google_chain.run(\"when chandrayaan 3 lanched in india\")"
   ]
  },
  {
   "cell_type": "code",
   "execution_count": null,
   "id": "b4d0f231",
   "metadata": {},
   "outputs": [],
   "source": []
  },
  {
   "cell_type": "code",
   "execution_count": null,
   "id": "1279c5e4",
   "metadata": {},
   "outputs": [],
   "source": []
  },
  {
   "cell_type": "code",
   "execution_count": null,
   "id": "f51239eb",
   "metadata": {},
   "outputs": [],
   "source": []
  },
  {
   "cell_type": "code",
   "execution_count": null,
   "id": "6bf18cb2",
   "metadata": {},
   "outputs": [],
   "source": []
  },
  {
   "cell_type": "code",
   "execution_count": 95,
   "id": "4d28ee79",
   "metadata": {},
   "outputs": [],
   "source": [
    "from langchain.llms import OpenAI\n",
    "from langchain.prompts import PromptTemplate\n",
    "\n",
    "llm = OpenAI(temperature=0.9, openai_api_key=my_openapi_key )\n",
    "prompt = PromptTemplate(\n",
    "    input_variables=[\"product\"],\n",
    "    template=\"What is a good name for a company that makes {product}?\",\n",
    ")"
   ]
  },
  {
   "cell_type": "code",
   "execution_count": null,
   "id": "e5d18f8d",
   "metadata": {},
   "outputs": [],
   "source": []
  },
  {
   "cell_type": "code",
   "execution_count": 65,
   "id": "95f302cb",
   "metadata": {},
   "outputs": [
    {
     "name": "stdout",
     "output_type": "stream",
     "text": [
      "\n",
      "\n",
      "Kaleidoscope Sockery\n"
     ]
    }
   ],
   "source": [
    "from langchain.chains import LLMChain\n",
    "chain = LLMChain(llm=llm, prompt=prompt)\n",
    "\n",
    "# Run the chain only specifying the input variable.\n",
    "print(chain.run(\"colorful socks\"))"
   ]
  },
  {
   "cell_type": "code",
   "execution_count": null,
   "id": "6f0632a8",
   "metadata": {},
   "outputs": [],
   "source": []
  },
  {
   "cell_type": "code",
   "execution_count": null,
   "id": "1036067a",
   "metadata": {},
   "outputs": [],
   "source": []
  },
  {
   "cell_type": "code",
   "execution_count": null,
   "id": "24f30c9d",
   "metadata": {},
   "outputs": [],
   "source": []
  },
  {
   "cell_type": "code",
   "execution_count": null,
   "id": "821fdffe",
   "metadata": {},
   "outputs": [],
   "source": []
  },
  {
   "cell_type": "code",
   "execution_count": null,
   "id": "3f2fc121",
   "metadata": {},
   "outputs": [],
   "source": []
  }
 ],
 "metadata": {
  "kernelspec": {
   "display_name": "Python 3 (ipykernel)",
   "language": "python",
   "name": "python3"
  },
  "language_info": {
   "codemirror_mode": {
    "name": "ipython",
    "version": 3
   },
   "file_extension": ".py",
   "mimetype": "text/x-python",
   "name": "python",
   "nbconvert_exporter": "python",
   "pygments_lexer": "ipython3",
   "version": "3.10.9"
  }
 },
 "nbformat": 4,
 "nbformat_minor": 5
}
